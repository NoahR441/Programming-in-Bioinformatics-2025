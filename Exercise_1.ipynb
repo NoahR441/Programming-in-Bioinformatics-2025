{
 "cells": [
  {
   "cell_type": "markdown",
   "metadata": {},
   "source": [
    "# Processing FASTA files\n",
    "\n",
    "Exercise for processing DNA sequences.\n",
    "\n",
    "* **Contact:** mate.balajti@unibas.ch"
   ]
  },
  {
   "cell_type": "code",
   "execution_count": 1,
   "metadata": {},
   "outputs": [],
   "source": [
    "import numpy as np\n",
    "\n",
    "filename1 = \"sequences.fasta\"\n",
    "filename2 = \"genome.fasta\""
   ]
  },
  {
   "cell_type": "markdown",
   "metadata": {},
   "source": [
    "## Exercise 1.1 (3 points)\n",
    "\n",
    "Write a function `parse_fasta()` that takes a path to a FASTA file as input\n",
    "and returns a tuple of two lists, the first containing sequence headers\n",
    "stripped of the leading `>`, and the second containing the actual sequences.\n",
    "\n",
    "> **Notes:**\n",
    ">  \n",
    "> * Please write the parser from scratch and do _not_ use existing FASTA\n",
    ">   parsers, such as the one provided by Biopython.\n",
    "> * Ensure that wrapped sequences are handled such that fragments of a given\n",
    ">   sequence are concatenated, without white space, in the order they appear\n",
    ">   in the file. Make use of the leading `>` character to separate records\n",
    ">   from each other.\n",
    "> * Ensure that the number of items in the returned lists correspond to the\n",
    ">   original number of records in the input file."
   ]
  },
  {
   "cell_type": "code",
   "execution_count": 2,
   "metadata": {},
   "outputs": [],
   "source": [
    "def parse_fasta(path: str) -> tuple[list[str], list[str]]:\n",
    "    header = []\n",
    "    sequence = []\n",
    "    \n",
    "    with open(path, 'r') as file:\n",
    "        for line in file:\n",
    "            line = line.strip()\n",
    "            if line.startswith('>'):\n",
    "                current_header= line[1:].strip()\n",
    "                header.append(current_header)\n",
    "            else:\n",
    "                sequence.append(line)\n",
    "\n",
    "    return header, sequence"
   ]
  },
  {
   "cell_type": "markdown",
   "metadata": {},
   "source": [
    "## Exercise 1.2 (2 points)\n",
    "\n",
    "Write a function `discard_ambiguous_seqs()` that takes two arguments, a list of sequence headers and list of strings as input \n",
    "and returns a tuple of two lists with only those headers and strings that exclusively consist of letters of the\n",
    "\"DNA alphabet\" (`A`, `C`, `G`, `T`).\n",
    "\n",
    "> **Notes:**\n",
    ">  \n",
    "> * Make sure your implementation is case-insensitive, i.e., sequences\n",
    ">   containing lowercase DNA characters, even if mixed with uppercase\n",
    ">   characters, are valid as well."
   ]
  },
  {
   "cell_type": "code",
   "execution_count": 3,
   "metadata": {},
   "outputs": [],
   "source": [
    "def discard_ambiguous_seqs(header: list[str], sequence: list[str]) -> \\\n",
    "  tuple[: list[str], : list[str]]:\n",
    "    r_header = []\n",
    "    r_sequence = []\n",
    "    r_char= set('ACGTacgt')\n",
    "    for i, seq in enumerate(sequence):\n",
    "        if all(char in r_char for char in seq):\n",
    "            r_sequence.append(seq)\n",
    "            r_header.append(header[i])\n",
    "            \n",
    "    return r_header, r_sequence"
   ]
  },
  {
   "cell_type": "markdown",
   "metadata": {},
   "source": [
    "## Exercise 1.3 (2 points)\n",
    "\n",
    "Write a function `nucleotide_frequencies()` that takes a list of strings as\n",
    "input, and which prints out the total frequency of each nucleotide across\n",
    "all input sequences. Use the following example as a template to format your\n",
    "output:\n",
    "\n",
    "```console\n",
    "A: 0.31\n",
    "C: 0.21\n",
    "G: 0.17\n",
    "T: 0.31\n",
    "```\n",
    "\n",
    "> **Notes:**\n",
    ">\n",
    "> * Note how numbers are rounded in the example and format decimals printed\n",
    ">   by your solution in the same manner, i.e., rounded to two significant\n",
    ">   digits.\n",
    "> * The function does not require any specific return value. In case you are\n",
    ">   not aware of how Python deals with functions without an explicit `return`\n",
    ">   statement, look up the behavior in relevant documentation."
   ]
  },
  {
   "cell_type": "code",
   "execution_count": 16,
   "metadata": {},
   "outputs": [],
   "source": [
    "def nucleotide_frequencies(seqs: list[str]) -> None:\n",
    "    count = {'A' : 0, 'C' : 0, 'G' : 0, 'T' : 0}\n",
    "    tot_nucleo = 0\n",
    "    for seq in seqs:\n",
    "        for nucleo in seq:\n",
    "            if nucleo in count:\n",
    "                tot_nucleo += 1\n",
    "                count[nucleo] += 1\n",
    "    for nucleo in ['A', 'C', 'G', 'T']:\n",
    "        if count[nucleo] != 0:\n",
    "            freq=count[nucleo]/tot_nucleo\n",
    "            print(f\" {nucleo}: + {freq: .2f}\")\n",
    "        else:\n",
    "            print(f\" {nucleo}: + 0.00\")"
   ]
  },
  {
   "cell_type": "markdown",
   "metadata": {},
   "source": [
    "## Exercise 1.4 (3 points)\n",
    "\n",
    "Write a function `map_reads()` that takes as input two FASTA files, the first\n",
    "containing short read sequences (\"query\"), and the second containing reference\n",
    "sequences. The function should \n",
    "* read the files, \n",
    "* discard _query_ sequences that contain non-DNA characters, \n",
    "* print the nucleotide fractions for both files to\n",
    "the console \n",
    "* and returns a dictionary of dictionaries, where the outer\n",
    "dictionary uses the names of query sequences as its keys, and the inner\n",
    "dictionary uses reference sequence names as keys and a list of 1-based indices\n",
    "indicating at which position (counting from left to right) in the reference\n",
    "sequence the query sequence occurs as an exact substring.\n",
    "\n",
    "Execute the function, passing `sequences.fasta` and `genome.fasta` as input.\n",
    "Inspect the returned \"hits\" object (the dictionary of dicionaries). Interpret\n",
    "the results in at least 2-3 bullet points. What's special about query sequence\n",
    "`sequence4`?"
   ]
  },
  {
   "cell_type": "code",
   "execution_count": 18,
   "metadata": {},
   "outputs": [
    {
     "name": "stdout",
     "output_type": "stream",
     "text": [
      "1\n",
      " A: +  0.23\n",
      " C: +  0.17\n",
      " G: +  0.36\n",
      " T: +  0.25\n",
      "2\n",
      " A: +  0.25\n",
      " C: +  0.26\n",
      " G: +  0.25\n",
      " T: +  0.24\n"
     ]
    }
   ],
   "source": [
    "def map_reads(filename1: str, filename2: str) -> dict[dict[str: list[int]]]:\n",
    "    headers, sequences = parse_fasta(filename1)\n",
    "    headers2, sequences2 = parse_fasta(filename2)\n",
    "    r_headers, r_sequences = discard_ambiguous_seqs(headers, sequences)\n",
    "    print(\"1\")\n",
    "    nucleotide_frequencies(r_sequences)\n",
    "    print(\"2\")\n",
    "    nucleotide_frequencies(sequences2)\n",
    "    \n",
    "    findings = {}\n",
    "    \n",
    "    for i, (q_header, q_seq) in enumerate(zip(r_headers, r_sequences)):\n",
    "        query_hits = {}\n",
    "        \n",
    "        for j, (ref_header, ref_seq) in enumerate(zip(headers2, sequences2)):\n",
    "            pos = []\n",
    "        \n",
    "    return findings\n",
    "\n",
    "map_reads(filename1, filename2)"
   ]
  },
  {
   "cell_type": "code",
   "execution_count": null,
   "metadata": {},
   "outputs": [],
   "source": []
  }
 ],
 "metadata": {
  "kernelspec": {
   "display_name": "Python [conda env:python_pids_2024_env]",
   "language": "python",
   "name": "conda-env-python_pids_2024_env-py"
  },
  "language_info": {
   "codemirror_mode": {
    "name": "ipython",
    "version": 3
   },
   "file_extension": ".py",
   "mimetype": "text/x-python",
   "name": "python",
   "nbconvert_exporter": "python",
   "pygments_lexer": "ipython3",
   "version": "3.9.19"
  }
 },
 "nbformat": 4,
 "nbformat_minor": 4
}
